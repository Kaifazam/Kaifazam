{
  "nbformat": 4,
  "nbformat_minor": 0,
  "metadata": {
    "colab": {
      "name": "python asignment-3.ipynb",
      "provenance": []
    },
    "kernelspec": {
      "name": "python3",
      "display_name": "Python 3"
    }
  },
  "cells": [
    {
      "cell_type": "code",
      "metadata": {
        "id": "O2U8UqHp-QsV",
        "colab_type": "code",
        "colab": {}
      },
      "source": [
        ""
      ],
      "execution_count": null,
      "outputs": []
    },
    {
      "cell_type": "markdown",
      "metadata": {
        "id": "Ef0QmSWK-Wb8",
        "colab_type": "text"
      },
      "source": [
        "take two inputs from user and check whether they are equal or not"
      ]
    },
    {
      "cell_type": "code",
      "metadata": {
        "id": "0uAQqaCq-i41",
        "colab_type": "code",
        "colab": {
          "base_uri": "https://localhost:8080/",
          "height": 68
        },
        "outputId": "b9a5ce96-4ebd-4212-c1c1-ac73fc064f9a"
      },
      "source": [
        "a=(input('enter the first value'))\n",
        "b=(input('enter the second value'))\n",
        "if a==b:\n",
        "   print(\"both are equal\")\n",
        "else:\n",
        "  print(\"both are not equal\")"
      ],
      "execution_count": 5,
      "outputs": [
        {
          "output_type": "stream",
          "text": [
            "enter the first value2\n",
            "enter the second value3\n",
            "both are not equal\n"
          ],
          "name": "stdout"
        }
      ]
    },
    {
      "cell_type": "code",
      "metadata": {
        "id": "oc9yzV3Y-yaq",
        "colab_type": "code",
        "colab": {}
      },
      "source": [
        ""
      ],
      "execution_count": null,
      "outputs": []
    },
    {
      "cell_type": "markdown",
      "metadata": {
        "id": "HT79tuR3DKMV",
        "colab_type": "text"
      },
      "source": [
        "take 3 inputs from user and check:all are equal,any of two are equal(use and operator ,or operator)"
      ]
    },
    {
      "cell_type": "code",
      "metadata": {
        "id": "S4U4NxSmDfrh",
        "colab_type": "code",
        "colab": {
          "base_uri": "https://localhost:8080/",
          "height": 85
        },
        "outputId": "6ba5ec51-a7cf-48ce-8cd1-b3cfc278a576"
      },
      "source": [
        "a=int(input('enter the first value'))\n",
        "b=int(input('enter the second value'))\n",
        "c=int(input('enter the third value'))\n",
        "if a==b and b==c and c==a:\n",
        "  print(\"all are equal\")\n",
        "elif a>b and a>c:\n",
        "  print(\"a is greater\")\n",
        "elif b>a and b>c:\n",
        "  print(\"b is greater\")\n",
        "elif c>a and c>b:\n",
        "  print(\"c is greater\")\n"
      ],
      "execution_count": 12,
      "outputs": [
        {
          "output_type": "stream",
          "text": [
            "enter the first value2\n",
            "enter the second value3\n",
            "enter the third value4\n",
            "c is greater\n"
          ],
          "name": "stdout"
        }
      ]
    },
    {
      "cell_type": "code",
      "metadata": {
        "id": "PgRaJqyaFfUA",
        "colab_type": "code",
        "colab": {}
      },
      "source": [
        ""
      ],
      "execution_count": null,
      "outputs": []
    },
    {
      "cell_type": "markdown",
      "metadata": {
        "id": "7CBkPhWdGIRy",
        "colab_type": "text"
      },
      "source": [
        "take two numbers and check whether the sum is greater than 5,less than 5 or equal to 5."
      ]
    },
    {
      "cell_type": "code",
      "metadata": {
        "id": "SuuoDnLXGe2P",
        "colab_type": "code",
        "colab": {
          "base_uri": "https://localhost:8080/",
          "height": 68
        },
        "outputId": "bddabb98-1098-4bff-8107-e78663184c03"
      },
      "source": [
        "a=int(input('enter the first value'))\n",
        "b=int(input('enter the second value'))\n",
        "x=a+b\n",
        "if x>5:\n",
        "  print(\"x is greater than 5\")\n",
        "elif x<5:\n",
        "  print(\"x is less than 5\")\n",
        "elif x==5:\n",
        "  print(\"x is equal to 5\")"
      ],
      "execution_count": 20,
      "outputs": [
        {
          "output_type": "stream",
          "text": [
            "enter the first value1\n",
            "enter the second value2\n",
            "x is less than 5\n"
          ],
          "name": "stdout"
        }
      ]
    },
    {
      "cell_type": "code",
      "metadata": {
        "id": "rKHj8kxXHetU",
        "colab_type": "code",
        "colab": {}
      },
      "source": [
        ""
      ],
      "execution_count": null,
      "outputs": []
    },
    {
      "cell_type": "markdown",
      "metadata": {
        "id": "sriYYSf3IaZ4",
        "colab_type": "text"
      },
      "source": [
        "suppose passing marks of a subject is 35.take input of marks from user and check whether it is greater than passing marks or not"
      ]
    },
    {
      "cell_type": "code",
      "metadata": {
        "id": "Fxtz4ZALItrE",
        "colab_type": "code",
        "colab": {
          "base_uri": "https://localhost:8080/",
          "height": 51
        },
        "outputId": "39095106-7218-4188-8bf0-d5aa188ded0a"
      },
      "source": [
        "a=int(input('enter the marks'))\n",
        "x==35\n",
        "if a>x:\n",
        "  print(\"it is greater\")\n",
        "else:\n",
        "     print(\"it is lesser\")"
      ],
      "execution_count": 31,
      "outputs": [
        {
          "output_type": "stream",
          "text": [
            "enter the marks39\n",
            "it is greater\n"
          ],
          "name": "stdout"
        }
      ]
    },
    {
      "cell_type": "code",
      "metadata": {
        "id": "OrMSeV2MJT5t",
        "colab_type": "code",
        "colab": {}
      },
      "source": [
        ""
      ],
      "execution_count": null,
      "outputs": []
    },
    {
      "cell_type": "markdown",
      "metadata": {
        "id": "V21e4aN5KuAY",
        "colab_type": "text"
      },
      "source": [
        "write a python function to find the max of three numbers"
      ]
    },
    {
      "cell_type": "code",
      "metadata": {
        "id": "6YjU4PbMK2-1",
        "colab_type": "code",
        "colab": {
          "base_uri": "https://localhost:8080/",
          "height": 85
        },
        "outputId": "e4c13066-964c-4364-a4c6-4c9d32e48b30"
      },
      "source": [
        "a=int(input('enter the first value'))\n",
        "b=int(input('enter the second value'))\n",
        "c=int(input('enter the third value'))\n",
        "if a>=b and a>=c:\n",
        "  print(\"a is larger\")\n",
        "elif b>=a and b>=c:\n",
        "  print(\"b is larger\")\n",
        "else:\n",
        "  print(\"c is larger\")"
      ],
      "execution_count": 32,
      "outputs": [
        {
          "output_type": "stream",
          "text": [
            "enter the first value8\n",
            "enter the second value9\n",
            "enter the third value10\n",
            "c is larger\n"
          ],
          "name": "stdout"
        }
      ]
    },
    {
      "cell_type": "code",
      "metadata": {
        "id": "y4dI_QnRNSrb",
        "colab_type": "code",
        "colab": {}
      },
      "source": [
        ""
      ],
      "execution_count": null,
      "outputs": []
    }
  ]
}