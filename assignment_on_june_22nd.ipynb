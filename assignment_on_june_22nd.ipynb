{
  "nbformat": 4,
  "nbformat_minor": 0,
  "metadata": {
    "colab": {
      "name": "assignment on june-22nd.ipynb",
      "provenance": []
    },
    "kernelspec": {
      "name": "python3",
      "display_name": "Python 3"
    }
  },
  "cells": [
    {
      "cell_type": "code",
      "metadata": {
        "id": "vFTGCOXA3NWH",
        "colab_type": "code",
        "colab": {}
      },
      "source": [
        ""
      ],
      "execution_count": null,
      "outputs": []
    },
    {
      "cell_type": "code",
      "metadata": {
        "id": "e2FaYFTM09UQ",
        "colab_type": "code",
        "colab": {}
      },
      "source": [
        "\n",
        "  "
      ],
      "execution_count": 16,
      "outputs": []
    },
    {
      "cell_type": "code",
      "metadata": {
        "id": "uEni1G0Z2p4c",
        "colab_type": "code",
        "colab": {}
      },
      "source": [
        ""
      ],
      "execution_count": null,
      "outputs": []
    },
    {
      "cell_type": "markdown",
      "metadata": {
        "id": "7Rufi4zx3tNU",
        "colab_type": "text"
      },
      "source": [
        "write a python program to check whether the number is prime or not"
      ]
    },
    {
      "cell_type": "code",
      "metadata": {
        "id": "V0bZz_b94ZxT",
        "colab_type": "code",
        "colab": {}
      },
      "source": [
        ""
      ],
      "execution_count": 5,
      "outputs": []
    },
    {
      "cell_type": "code",
      "metadata": {
        "id": "5PVYH3wV5Bds",
        "colab_type": "code",
        "colab": {
          "base_uri": "https://localhost:8080/",
          "height": 51
        },
        "outputId": "38fec55d-cfe1-43af-ff4f-0bfafd052275"
      },
      "source": [
        "c=0\n",
        "x=int(input(\"enter the number:\"))\n",
        "z=x\n",
        "for i in range(2,x):\n",
        " y=x%2\n",
        " if(y==0):\n",
        "   c=c+1\n",
        "if(c>0):\n",
        "  print(z,\"is not a prime number\")\n",
        "else:\n",
        "  print(z,\"is a prime number\")"
      ],
      "execution_count": 7,
      "outputs": [
        {
          "output_type": "stream",
          "text": [
            "enter the number:36\n",
            "36 is not a prime number\n"
          ],
          "name": "stdout"
        }
      ]
    },
    {
      "cell_type": "code",
      "metadata": {
        "id": "wWmkiUhsBWbB",
        "colab_type": "code",
        "colab": {}
      },
      "source": [
        ""
      ],
      "execution_count": null,
      "outputs": []
    },
    {
      "cell_type": "markdown",
      "metadata": {
        "id": "nl2LZG1HBhK_",
        "colab_type": "text"
      },
      "source": [
        "write a python function to find sum of squares of first n natural numbers."
      ]
    },
    {
      "cell_type": "code",
      "metadata": {
        "id": "zvA4ExRRBqIk",
        "colab_type": "code",
        "colab": {
          "base_uri": "https://localhost:8080/",
          "height": 34
        },
        "outputId": "9564ae18-f8b9-47dd-d362-383c55cae66b"
      },
      "source": [
        "def squaresum(n):\n",
        "  return(n*(n+1)*(2*n+1))//6\n",
        "n=9\n",
        "print(squaresum(n))"
      ],
      "execution_count": 8,
      "outputs": [
        {
          "output_type": "stream",
          "text": [
            "285\n"
          ],
          "name": "stdout"
        }
      ]
    },
    {
      "cell_type": "code",
      "metadata": {
        "id": "6vdi-vHTCHoL",
        "colab_type": "code",
        "colab": {}
      },
      "source": [
        ""
      ],
      "execution_count": null,
      "outputs": []
    },
    {
      "cell_type": "markdown",
      "metadata": {
        "id": "Wsa3YvOfCJVp",
        "colab_type": "text"
      },
      "source": [
        "write a program to reverse a string"
      ]
    },
    {
      "cell_type": "code",
      "metadata": {
        "id": "yq6Pb_dOCgse",
        "colab_type": "code",
        "colab": {
          "base_uri": "https://localhost:8080/",
          "height": 51
        },
        "outputId": "b98be934-c609-46a8-b48d-76ee3867a7fb"
      },
      "source": [
        "def reverse(s):\n",
        "  str=\"\"\n",
        "  for i in s:\n",
        "    str=i+str\n",
        "  return str\n",
        "s=\"gitam\"\n",
        "print(\"the original string is:\",end=\"\")\n",
        "print(s)\n",
        "print(\"the reversed string is:\",end=\"\")\n",
        "print(reverse(s))\n"
      ],
      "execution_count": 9,
      "outputs": [
        {
          "output_type": "stream",
          "text": [
            "the original string is:gitam\n",
            "the reversed string is:matig\n"
          ],
          "name": "stdout"
        }
      ]
    },
    {
      "cell_type": "code",
      "metadata": {
        "id": "Sc_GEOhfDfW1",
        "colab_type": "code",
        "colab": {}
      },
      "source": [
        ""
      ],
      "execution_count": 10,
      "outputs": []
    }
  ]
}