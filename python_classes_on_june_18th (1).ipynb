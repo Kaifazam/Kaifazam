{
  "nbformat": 4,
  "nbformat_minor": 0,
  "metadata": {
    "colab": {
      "name": "python classes on june 18th.ipynb",
      "provenance": []
    },
    "kernelspec": {
      "name": "python3",
      "display_name": "Python 3"
    }
  },
  "cells": [
    {
      "cell_type": "code",
      "metadata": {
        "id": "UaN-7m2lIwPw",
        "colab_type": "code",
        "colab": {}
      },
      "source": [
        ""
      ],
      "execution_count": null,
      "outputs": []
    },
    {
      "cell_type": "markdown",
      "metadata": {
        "id": "BX3hRPkoI3ez",
        "colab_type": "text"
      },
      "source": [
        "perimeter of a square is 16"
      ]
    },
    {
      "cell_type": "code",
      "metadata": {
        "id": "3_qgxTCPI8is",
        "colab_type": "code",
        "colab": {
          "base_uri": "https://localhost:8080/",
          "height": 51
        },
        "outputId": "5df48eb7-3836-49a1-d156-8ab0fb1c7042"
      },
      "source": [
        "a=int(input())\n",
        "print(\"perimeter of a square is \",4*a)"
      ],
      "execution_count": 1,
      "outputs": [
        {
          "output_type": "stream",
          "text": [
            "5\n",
            "perimeter of a square is  20\n"
          ],
          "name": "stdout"
        }
      ]
    },
    {
      "cell_type": "markdown",
      "metadata": {
        "id": "NKyrBTYtJP24",
        "colab_type": "text"
      },
      "source": [
        "program to calculate circumference of a circle"
      ]
    },
    {
      "cell_type": "code",
      "metadata": {
        "id": "uRJYRgmBJKkA",
        "colab_type": "code",
        "colab": {
          "base_uri": "https://localhost:8080/",
          "height": 51
        },
        "outputId": "63dda549-0311-48d4-e354-6f722545e92f"
      },
      "source": [
        "radius=float(input())\n",
        "print(\"circumference of a circle is\",2*3.14*radius)"
      ],
      "execution_count": 2,
      "outputs": [
        {
          "output_type": "stream",
          "text": [
            "2.3\n",
            "circumference of a circle is 14.443999999999999\n"
          ],
          "name": "stdout"
        }
      ]
    },
    {
      "cell_type": "markdown",
      "metadata": {
        "id": "ZXd9dBxhJr0a",
        "colab_type": "text"
      },
      "source": [
        "program to swap two numbers"
      ]
    },
    {
      "cell_type": "code",
      "metadata": {
        "id": "hNkEe7RtJmx6",
        "colab_type": "code",
        "colab": {
          "base_uri": "https://localhost:8080/",
          "height": 68
        },
        "outputId": "30c819d6-fec5-4785-c454-6a421330fdb9"
      },
      "source": [
        "a=int(input())\n",
        "b=int(input())\n",
        "temp=a\n",
        "a=b\n",
        "b=temp\n",
        "print(\"after swapping the values are\",a,b)"
      ],
      "execution_count": 5,
      "outputs": [
        {
          "output_type": "stream",
          "text": [
            "4\n",
            "5\n",
            "after swapping the values are 5 4\n"
          ],
          "name": "stdout"
        }
      ]
    },
    {
      "cell_type": "code",
      "metadata": {
        "id": "rLcSVTRLKAaj",
        "colab_type": "code",
        "colab": {}
      },
      "source": [
        ""
      ],
      "execution_count": null,
      "outputs": []
    },
    {
      "cell_type": "markdown",
      "metadata": {
        "id": "0vh_fvBwKOg-",
        "colab_type": "text"
      },
      "source": [
        "program to convert celsius to fahrenheit"
      ]
    },
    {
      "cell_type": "code",
      "metadata": {
        "id": "5bbuk0oIKafP",
        "colab_type": "code",
        "colab": {
          "base_uri": "https://localhost:8080/",
          "height": 51
        },
        "outputId": "b1c192df-2114-4369-f0ba-db1d0ff2362f"
      },
      "source": [
        "celsius=float(input())\n",
        "print('after conversion fahrenheit is',celsius*1.8+32)"
      ],
      "execution_count": 7,
      "outputs": [
        {
          "output_type": "stream",
          "text": [
            "37.5\n",
            "after conversion fahrenheit is 99.5\n"
          ],
          "name": "stdout"
        }
      ]
    },
    {
      "cell_type": "code",
      "metadata": {
        "id": "MNEKMnClKr8S",
        "colab_type": "code",
        "colab": {}
      },
      "source": [
        ""
      ],
      "execution_count": null,
      "outputs": []
    },
    {
      "cell_type": "markdown",
      "metadata": {
        "id": "hi4n61tjLLfN",
        "colab_type": "text"
      },
      "source": [
        "program to calculate area of rectangle"
      ]
    },
    {
      "cell_type": "code",
      "metadata": {
        "id": "n6dkM2LwLSVG",
        "colab_type": "code",
        "colab": {
          "base_uri": "https://localhost:8080/",
          "height": 68
        },
        "outputId": "c59fbc71-69c9-4207-9abc-b3d6a1cc53c4"
      },
      "source": [
        "length=int(input())\n",
        "breadth=int(input())\n",
        "print(\"area of rectangle is\",length*breadth)"
      ],
      "execution_count": 8,
      "outputs": [
        {
          "output_type": "stream",
          "text": [
            "2\n",
            "3\n",
            "area of rectangle is 6\n"
          ],
          "name": "stdout"
        }
      ]
    },
    {
      "cell_type": "markdown",
      "metadata": {
        "id": "tK1rxW5RLpZY",
        "colab_type": "text"
      },
      "source": [
        "program to calculate perimeter of a square"
      ]
    },
    {
      "cell_type": "code",
      "metadata": {
        "id": "HRhBlRUpLlw3",
        "colab_type": "code",
        "colab": {
          "base_uri": "https://localhost:8080/",
          "height": 51
        },
        "outputId": "26b3dc88-4b57-44c6-a3fd-80011e663e93"
      },
      "source": [
        "a=int(input())\n",
        "print(\"perimeter of a square is \",4*a)"
      ],
      "execution_count": 9,
      "outputs": [
        {
          "output_type": "stream",
          "text": [
            "5\n",
            "perimeter of a square is  20\n"
          ],
          "name": "stdout"
        }
      ]
    },
    {
      "cell_type": "markdown",
      "metadata": {
        "id": "HCJzjNZ3L_o5",
        "colab_type": "text"
      },
      "source": [
        "program to calculate circumference of a circle"
      ]
    },
    {
      "cell_type": "code",
      "metadata": {
        "id": "FmGhX07-L8Ym",
        "colab_type": "code",
        "colab": {
          "base_uri": "https://localhost:8080/",
          "height": 51
        },
        "outputId": "482d6e49-12e5-420a-ea9e-ea0edef4fc0e"
      },
      "source": [
        "radius=float(input())\n",
        "print(\"circumference of a circle is\",2*3.14*radius)"
      ],
      "execution_count": 10,
      "outputs": [
        {
          "output_type": "stream",
          "text": [
            "3.6\n",
            "circumference of a circle is 22.608\n"
          ],
          "name": "stdout"
        }
      ]
    },
    {
      "cell_type": "markdown",
      "metadata": {
        "id": "ZeYAAsh1Md-o",
        "colab_type": "text"
      },
      "source": [
        "program to design simple calculator for operators"
      ]
    },
    {
      "cell_type": "code",
      "metadata": {
        "id": "2_q2xVRyMXKw",
        "colab_type": "code",
        "colab": {
          "base_uri": "https://localhost:8080/",
          "height": 68
        },
        "outputId": "89da2b2b-bc43-4d01-9d84-9f75e1fd6e1f"
      },
      "source": [
        "a=int(input())\n",
        "b=int(input())\n",
        "print(a+b,a-b,a/b,a//b,a%b,a**b)"
      ],
      "execution_count": 11,
      "outputs": [
        {
          "output_type": "stream",
          "text": [
            "2\n",
            "4\n",
            "6 -2 0.5 0 2 16\n"
          ],
          "name": "stdout"
        }
      ]
    },
    {
      "cell_type": "markdown",
      "metadata": {
        "id": "vSXXOdLnNAsh",
        "colab_type": "text"
      },
      "source": [
        "program to calculate simple intrest"
      ]
    },
    {
      "cell_type": "code",
      "metadata": {
        "id": "l9NL7VByM3iG",
        "colab_type": "code",
        "colab": {
          "base_uri": "https://localhost:8080/",
          "height": 85
        },
        "outputId": "f41dc445-89b8-41b6-f888-9bed2111debf"
      },
      "source": [
        "p=int(input())\n",
        "t=int(input())\n",
        "r=int(input())\n",
        "print((p*t*r)/100)"
      ],
      "execution_count": 12,
      "outputs": [
        {
          "output_type": "stream",
          "text": [
            "5\n",
            "2\n",
            "10\n",
            "1.0\n"
          ],
          "name": "stdout"
        }
      ]
    },
    {
      "cell_type": "markdown",
      "metadata": {
        "id": "jODzxdu-NftO",
        "colab_type": "text"
      },
      "source": [
        "program to calculate area of circle"
      ]
    },
    {
      "cell_type": "code",
      "metadata": {
        "id": "kNqDvmoQNbOy",
        "colab_type": "code",
        "colab": {
          "base_uri": "https://localhost:8080/",
          "height": 51
        },
        "outputId": "c02c5cf1-0a89-4271-c85a-4916b08a7e02"
      },
      "source": [
        "radius=float(input())\n",
        "print('area of circle is',3.14*radius**2)"
      ],
      "execution_count": 13,
      "outputs": [
        {
          "output_type": "stream",
          "text": [
            "2\n",
            "area of circle is 12.56\n"
          ],
          "name": "stdout"
        }
      ]
    },
    {
      "cell_type": "markdown",
      "metadata": {
        "id": "yS2z9-kgN5K_",
        "colab_type": "text"
      },
      "source": [
        "program to calculate area of triangle"
      ]
    },
    {
      "cell_type": "code",
      "metadata": {
        "id": "i-2DC8s4N2M3",
        "colab_type": "code",
        "colab": {
          "base_uri": "https://localhost:8080/",
          "height": 68
        },
        "outputId": "e2901895-3934-470e-b81b-2d0d17a7f029"
      },
      "source": [
        "breadth=int(input())\n",
        "length=int(input())\n",
        "print(\"area of triangle is\",(1/2)*breadth*length)"
      ],
      "execution_count": 14,
      "outputs": [
        {
          "output_type": "stream",
          "text": [
            "2\n",
            "3\n",
            "area of triangle is 3.0\n"
          ],
          "name": "stdout"
        }
      ]
    },
    {
      "cell_type": "code",
      "metadata": {
        "id": "O-gnOmC_OP5n",
        "colab_type": "code",
        "colab": {}
      },
      "source": [
        ""
      ],
      "execution_count": null,
      "outputs": []
    }
  ]
}