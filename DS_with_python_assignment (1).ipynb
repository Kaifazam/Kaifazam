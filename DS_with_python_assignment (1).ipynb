{
  "nbformat": 4,
  "nbformat_minor": 0,
  "metadata": {
    "colab": {
      "name": "DS with python assignment.ipynb",
      "provenance": []
    },
    "kernelspec": {
      "name": "python3",
      "display_name": "Python 3"
    }
  },
  "cells": [
    {
      "cell_type": "code",
      "metadata": {
        "id": "VEVeksaUlbaT"
      },
      "source": [
        ""
      ],
      "execution_count": null,
      "outputs": []
    },
    {
      "cell_type": "markdown",
      "metadata": {
        "id": "u8wIZXYVmO5a"
      },
      "source": [
        "# minimum among three numbers\n",
        "a, b, c = 16, 5,7"
      ]
    },
    {
      "cell_type": "code",
      "metadata": {
        "id": "DuDkF1XGmaWK",
        "outputId": "4293e07b-14fa-40ad-e09c-15e1dc0d81b2",
        "colab": {
          "base_uri": "https://localhost:8080/",
          "height": 34
        }
      },
      "source": [
        "a, b, c = 16, 5,7\n",
        " \n",
        "if(a < b and a < c): \n",
        " \n",
        "    print(\" ais the minimum\") \n",
        " \n",
        "elif(b < a and b < c): \n",
        " \n",
        "    print(\" b is the minimum\") \n",
        " \n",
        "else: \n",
        " \n",
        "    print(\" c is the minimum\")"
      ],
      "execution_count": null,
      "outputs": [
        {
          "output_type": "stream",
          "text": [
            " b is the minimum\n"
          ],
          "name": "stdout"
        }
      ]
    },
    {
      "cell_type": "code",
      "metadata": {
        "id": "lMhjJF_-mySE"
      },
      "source": [
        ""
      ],
      "execution_count": null,
      "outputs": []
    },
    {
      "cell_type": "markdown",
      "metadata": {
        "id": "EPUHduT1m0Ai"
      },
      "source": [
        "# GCD and LCM of two numbers\n",
        "def gcd(a,b): "
      ]
    },
    {
      "cell_type": "code",
      "metadata": {
        "id": "DKTq2nFcm9d2",
        "outputId": "7252fd01-7d4f-49bf-d482-d5e89ea3d65f",
        "colab": {
          "base_uri": "https://localhost:8080/",
          "height": 51
        }
      },
      "source": [
        "def gcd(a,b): \n",
        " \n",
        "    if a == 0: \n",
        " \n",
        "        return b \n",
        " \n",
        "    return gcd(b % a, a) \n",
        "def lcm(a,b): \n",
        " \n",
        "    return (a*b) / gcd(a,b) \n",
        "a = 25\n",
        "b = 40\n",
        "print('LCM of', a, 'and', b, 'is', lcm(a, b))\n",
        "print('GCD of', a, 'and', b, 'is', gcd(a, b))"
      ],
      "execution_count": null,
      "outputs": [
        {
          "output_type": "stream",
          "text": [
            "LCM of 25 and 40 is 200.0\n",
            "GCD of 25 and 40 is 5\n"
          ],
          "name": "stdout"
        }
      ]
    },
    {
      "cell_type": "code",
      "metadata": {
        "id": "FZrUFMGLnbM5"
      },
      "source": [
        ""
      ],
      "execution_count": null,
      "outputs": []
    },
    {
      "cell_type": "markdown",
      "metadata": {
        "id": "2LBO8uPjncg9"
      },
      "source": [
        "TWIN PRIMES BELOW \n"
      ]
    },
    {
      "cell_type": "code",
      "metadata": {
        "id": "riOdXaElnjs0",
        "outputId": "1e9b7ecc-77f2-4300-82d8-8cb1064adde3",
        "colab": {
          "base_uri": "https://localhost:8080/",
          "height": 153
        }
      },
      "source": [
        "def is_prime(n):\n",
        "   for i in range(2, n):\n",
        "      if n % i == 0:\n",
        "         return False\n",
        "   return True\n",
        "\n",
        "def generate_twins(start, end):\n",
        "   for i in range(start, end):\n",
        "      j = i + 2\n",
        "      if(is_prime(i) and is_prime(j)):\n",
        "         print(\"{:d} and {:d}\".format(i, j))\n",
        "\n",
        "generate_twins(2, 100)"
      ],
      "execution_count": null,
      "outputs": [
        {
          "output_type": "stream",
          "text": [
            "3 and 5\n",
            "5 and 7\n",
            "11 and 13\n",
            "17 and 19\n",
            "29 and 31\n",
            "41 and 43\n",
            "59 and 61\n",
            "71 and 73\n"
          ],
          "name": "stdout"
        }
      ]
    },
    {
      "cell_type": "markdown",
      "metadata": {
        "id": "xyHi7s5ln2iC"
      },
      "source": [
        "#number is perfect"
      ]
    },
    {
      "cell_type": "code",
      "metadata": {
        "id": "c_1V_W7loDt-",
        "outputId": "8a89ad00-3414-4806-bf8c-64d2b3d073b8",
        "colab": {
          "base_uri": "https://localhost:8080/",
          "height": 51
        }
      },
      "source": [
        "n = int(input(\"Enter any number: \"))\n",
        "sum = 0\n",
        "for i in range(1, n):\n",
        "    if(n % i == 0):\n",
        "        sum = sum + i\n",
        "if (sum == n):\n",
        "    print(\"number is a Perfect number\")\n",
        "else:\n",
        "    print(\"number is not a Perfect number\")"
      ],
      "execution_count": null,
      "outputs": [
        {
          "output_type": "stream",
          "text": [
            "Enter any number: 45\n",
            "number is not a Perfect number\n"
          ],
          "name": "stdout"
        }
      ]
    },
    {
      "cell_type": "markdown",
      "metadata": {
        "id": "zGjvDAGfoLXJ"
      },
      "source": [
        "# swapping of two numbers"
      ]
    },
    {
      "cell_type": "code",
      "metadata": {
        "id": "IrNuBH4coO3q",
        "outputId": "f8e2306c-1bed-4af0-f552-81cb0d08b6f0",
        "colab": {
          "base_uri": "https://localhost:8080/",
          "height": 51
        }
      },
      "source": [
        "x =23\n",
        "y =24\n",
        "temp = x\n",
        "x = y\n",
        "y = temp\n",
        " \n",
        "print('The value of x after swapping: {}'.format(x))\n",
        "print('The value of y after swapping: {}'.format(y))"
      ],
      "execution_count": null,
      "outputs": [
        {
          "output_type": "stream",
          "text": [
            "The value of x after swapping: 24\n",
            "The value of y after swapping: 23\n"
          ],
          "name": "stdout"
        }
      ]
    },
    {
      "cell_type": "code",
      "metadata": {
        "id": "13WgUCWdnkqc"
      },
      "source": [
        ""
      ],
      "execution_count": null,
      "outputs": []
    },
    {
      "cell_type": "markdown",
      "metadata": {
        "id": "pMCOoWUmoe-a"
      },
      "source": [
        "PRIME NUMBERS BETWEEN LOWER AND UPPER"
      ]
    },
    {
      "cell_type": "code",
      "metadata": {
        "id": "6wpUnn01otWc",
        "outputId": "fb9b0a38-d3f1-4966-d5d3-456dd64ae653",
        "colab": {
          "base_uri": "https://localhost:8080/",
          "height": 153
        }
      },
      "source": [
        "lower = 20\n",
        "upper = 50\n",
        " \n",
        "print(\"Prime numbers between\", lower, \"and\", upper, \"are:\")\n",
        " \n",
        "for num in range(lower, upper + 1):\n",
        "   if num > 1:\n",
        "       for i in range(2, num):\n",
        "           if (num % i) == 0:\n",
        "               break\n",
        "       else:\n",
        "           print(num)"
      ],
      "execution_count": null,
      "outputs": [
        {
          "output_type": "stream",
          "text": [
            "Prime numbers between 20 and 50 are:\n",
            "23\n",
            "29\n",
            "31\n",
            "37\n",
            "41\n",
            "43\n",
            "47\n"
          ],
          "name": "stdout"
        }
      ]
    },
    {
      "cell_type": "code",
      "metadata": {
        "id": "EfAlrh-oorqe"
      },
      "source": [
        ""
      ],
      "execution_count": null,
      "outputs": []
    },
    {
      "cell_type": "markdown",
      "metadata": {
        "id": "KC_ZIGYbox19"
      },
      "source": [
        "#armstrong "
      ]
    },
    {
      "cell_type": "code",
      "metadata": {
        "id": "ToPF0vIlo2cO",
        "outputId": "c91288fe-1aaa-485a-eaa7-07f941a9588d",
        "colab": {
          "base_uri": "https://localhost:8080/",
          "height": 51
        }
      },
      "source": [
        "num = int(input(\"Enter a number: \"))  \n",
        "sum = 0  \n",
        "temp = num  \n",
        "  \n",
        "while temp > 0:  \n",
        "   digit = temp % 10  \n",
        "   sum += digit ** 3  \n",
        "   temp //= 10  \n",
        "  \n",
        "if num == sum:  \n",
        "   print(num,\"is an Armstrong number\")  \n",
        "else:  \n",
        "   print(num,\"is not an Armstrong \")"
      ],
      "execution_count": null,
      "outputs": [
        {
          "output_type": "stream",
          "text": [
            "Enter a number: 12\n",
            "12 is not an Armstrong \n"
          ],
          "name": "stdout"
        }
      ]
    },
    {
      "cell_type": "markdown",
      "metadata": {
        "id": "WTDWPfBKo9K6"
      },
      "source": [
        "# all arithemetic operations"
      ]
    },
    {
      "cell_type": "code",
      "metadata": {
        "id": "K67orRogpBer",
        "outputId": "b7cf1563-324b-4744-dea7-622cdcaeb4fc",
        "colab": {
          "base_uri": "https://localhost:8080/",
          "height": 136
        }
      },
      "source": [
        "a = 10\n",
        "b = 25\n",
        "print (a+b) #addition\n",
        "print (a-b) # subtraction\n",
        "print (a*b) # multiplication\n",
        "print (a/b) #divison\n",
        "print (a//b) # floor divison\n",
        "print (a%b)  # modulo\n",
        "print (a**b) # exponent"
      ],
      "execution_count": null,
      "outputs": [
        {
          "output_type": "stream",
          "text": [
            "35\n",
            "-15\n",
            "250\n",
            "0.4\n",
            "0\n",
            "10\n",
            "10000000000000000000000000\n"
          ],
          "name": "stdout"
        }
      ]
    },
    {
      "cell_type": "code",
      "metadata": {
        "id": "kQsGRkKho6I9"
      },
      "source": [
        ""
      ],
      "execution_count": null,
      "outputs": []
    }
  ]
}