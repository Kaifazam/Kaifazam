{
  "nbformat": 4,
  "nbformat_minor": 0,
  "metadata": {
    "colab": {
      "name": "python assignment for june-30th.ipynb",
      "provenance": []
    },
    "kernelspec": {
      "name": "python3",
      "display_name": "Python 3"
    }
  },
  "cells": [
    {
      "cell_type": "code",
      "metadata": {
        "id": "-MAUStwlkNWi",
        "colab_type": "code",
        "colab": {}
      },
      "source": [
        ""
      ],
      "execution_count": null,
      "outputs": []
    },
    {
      "cell_type": "markdown",
      "metadata": {
        "id": "-rzE_JVXkPYT",
        "colab_type": "text"
      },
      "source": [
        ""
      ]
    },
    {
      "cell_type": "code",
      "metadata": {
        "id": "pSWACNOolKwv",
        "colab_type": "code",
        "colab": {
          "base_uri": "https://localhost:8080/",
          "height": 51
        },
        "outputId": "ebccf888-d728-4b1d-8ac0-6ad64a38d8e0"
      },
      "source": [
        "#3\n",
        "fh=open(r\"C:\\Users\\mered\\OneDrive\\Desktop\\vdsv.txt\",\"a\")\n",
        "inpp=input(\"Enter string to be appended:\")\n",
        "fh.write(inpp)\n",
        "fh.close()\n",
        "fh=open(r\"C:\\Users\\mered\\OneDrive\\Desktop\\vdsv.txt\",\"r\")\n",
        "print(fh.read())"
      ],
      "execution_count": 3,
      "outputs": [
        {
          "output_type": "stream",
          "text": [
            "Enter string to be appended:3\n",
            "3\n"
          ],
          "name": "stdout"
        }
      ]
    },
    {
      "cell_type": "code",
      "metadata": {
        "id": "RhHvW4B7lLxw",
        "colab_type": "code",
        "colab": {
          "base_uri": "https://localhost:8080/",
          "height": 119
        },
        "outputId": "86a7d24f-f366-4ced-f3dc-2beac107069a"
      },
      "source": [
        "#2fh=open(r\"C:\\Users\\mered\\OneDrive\\Desktop\\vdsv.txt\")\n",
        "n=int(input(\"Ener no of lines to be read:\"))\n",
        "for i in range(n):\n",
        "    print(fh.readline())"
      ],
      "execution_count": 4,
      "outputs": [
        {
          "output_type": "stream",
          "text": [
            "Ener no of lines to be read:5\n",
            "\n",
            "\n",
            "\n",
            "\n",
            "\n"
          ],
          "name": "stdout"
        }
      ]
    },
    {
      "cell_type": "code",
      "metadata": {
        "id": "XH9Pyhe6lrhh",
        "colab_type": "code",
        "colab": {
          "base_uri": "https://localhost:8080/",
          "height": 51
        },
        "outputId": "56dab708-8a8f-441a-bed1-162a82729bef"
      },
      "source": [
        "#4\n",
        "fh=open(r\"C:\\Users\\mered\\OneDrive\\Desktop\\vdsv.txt\",\"r\")\n",
        "l1=fh.readlines()\n",
        "m=len(l1)\n",
        "n=int(input(\"ener n:\"))\n",
        "print(l1[(m-n):])"
      ],
      "execution_count": 5,
      "outputs": [
        {
          "output_type": "stream",
          "text": [
            "ener n:15\n",
            "['3']\n"
          ],
          "name": "stdout"
        }
      ]
    },
    {
      "cell_type": "code",
      "metadata": {
        "id": "aRR6j1OzllfH",
        "colab_type": "code",
        "colab": {
          "base_uri": "https://localhost:8080/",
          "height": 85
        },
        "outputId": "bd824ea6-2a55-4603-e605-204601437088"
      },
      "source": [
        "#2\n",
        "fh=open(r\"C:\\Users\\mered\\OneDrive\\Desktop\\vdsv.txt\")\n",
        "n=int(input(\"Ener no of lines to be read:\"))\n",
        "for i in range(n):\n",
        "    print(fh.readline())"
      ],
      "execution_count": 6,
      "outputs": [
        {
          "output_type": "stream",
          "text": [
            "Ener no of lines to be read:3\n",
            "3\n",
            "\n",
            "\n"
          ],
          "name": "stdout"
        }
      ]
    },
    {
      "cell_type": "code",
      "metadata": {
        "id": "-jUqKDZbl6WA",
        "colab_type": "code",
        "colab": {
          "base_uri": "https://localhost:8080/",
          "height": 34
        },
        "outputId": "9da1fce5-f6ef-4917-be3e-98bda5b724a9"
      },
      "source": [
        "#6\n",
        "fh=open(r\"C:\\Users\\mered\\OneDrive\\Desktop\\vdsv.txt\",\"r\")\n",
        "l1=[]\n",
        "for i in fh:\n",
        "    l1.append(i)\n",
        "print(l1)"
      ],
      "execution_count": 7,
      "outputs": [
        {
          "output_type": "stream",
          "text": [
            "['3']\n"
          ],
          "name": "stdout"
        }
      ]
    },
    {
      "cell_type": "code",
      "metadata": {
        "id": "6nLdQyy4l30q",
        "colab_type": "code",
        "colab": {
          "base_uri": "https://localhost:8080/",
          "height": 51
        },
        "outputId": "cd6553c3-a5e5-44fc-a75d-1d032caed26b"
      },
      "source": [
        "#5\n",
        "fh=open(r\"C:\\Users\\mered\\OneDrive\\Desktop\\vdsv.txt\",\"r\")\n",
        "str=''\n",
        "for i in fh:\n",
        "    str=str+i\n",
        "print(str)#5\n",
        "fh=open(r\"C:\\Users\\mered\\OneDrive\\Desktop\\vdsv.txt\",\"r\")\n",
        "str=''\n",
        "for i in fh:\n",
        "    str=str+i\n",
        "print(str)"
      ],
      "execution_count": 8,
      "outputs": [
        {
          "output_type": "stream",
          "text": [
            "3\n",
            "3\n"
          ],
          "name": "stdout"
        }
      ]
    },
    {
      "cell_type": "code",
      "metadata": {
        "id": "3GKNHYa5mBYI",
        "colab_type": "code",
        "colab": {
          "base_uri": "https://localhost:8080/",
          "height": 34
        },
        "outputId": "b1699223-8aa3-4aac-c30a-4cdb2912e6e5"
      },
      "source": [
        "#9\n",
        "fh=open(r\"C:\\Users\\mered\\OneDrive\\Desktop\\vdsv.txt\",\"r\")\n",
        "str=fh.read()\n",
        "print(len(str))"
      ],
      "execution_count": 9,
      "outputs": [
        {
          "output_type": "stream",
          "text": [
            "1\n"
          ],
          "name": "stdout"
        }
      ]
    },
    {
      "cell_type": "code",
      "metadata": {
        "id": "pjsQEsF0mFje",
        "colab_type": "code",
        "colab": {
          "base_uri": "https://localhost:8080/",
          "height": 34
        },
        "outputId": "39cd1053-4c69-47a1-83ad-c08d2221fe63"
      },
      "source": [
        "#7\n",
        "fh=open(r\"C:\\Users\\mered\\OneDrive\\Desktop\\vdsv.txt\",\"r\")\n",
        "l1=[]\n",
        "for i in fh:\n",
        "    l1.append(i)\n",
        "print(len(l1))"
      ],
      "execution_count": 10,
      "outputs": [
        {
          "output_type": "stream",
          "text": [
            "1\n"
          ],
          "name": "stdout"
        }
      ]
    },
    {
      "cell_type": "code",
      "metadata": {
        "id": "7a2PPe1DmNrH",
        "colab_type": "code",
        "colab": {}
      },
      "source": [
        ""
      ],
      "execution_count": null,
      "outputs": []
    }
  ]
}