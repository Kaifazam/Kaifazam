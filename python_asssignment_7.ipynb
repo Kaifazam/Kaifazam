{
  "nbformat": 4,
  "nbformat_minor": 0,
  "metadata": {
    "colab": {
      "name": "python asssignment-7.ipynb",
      "provenance": []
    },
    "kernelspec": {
      "name": "python3",
      "display_name": "Python 3"
    }
  },
  "cells": [
    {
      "cell_type": "code",
      "metadata": {
        "id": "KNPrqz-YRc6w",
        "colab_type": "code",
        "colab": {
          "base_uri": "https://localhost:8080/",
          "height": 68
        },
        "outputId": "61940ef5-31f1-4616-bd08-97a6a4e6282a"
      },
      "source": [
        "\n",
        "str=input(\"Enter a string:\")\n",
        "char=input(\"Enter a char:\")\n",
        "count=0\n",
        "for i in range(len(str)):\n",
        "  if(str[i]==char):\n",
        "    count+=1\n",
        "print(\"The total number of times \",char,\"has occured=\",count)"
      ],
      "execution_count": 3,
      "outputs": [
        {
          "output_type": "stream",
          "text": [
            "Enter a string:hellow world\n",
            "Enter a char:1\n",
            "The total number of times  1 has occured= 0\n"
          ],
          "name": "stdout"
        }
      ]
    },
    {
      "cell_type": "code",
      "metadata": {
        "id": "mlowAodNRl6z",
        "colab_type": "code",
        "colab": {
          "base_uri": "https://localhost:8080/",
          "height": 51
        },
        "outputId": "11684cb8-446b-4059-80fd-1b4343c3c2f7"
      },
      "source": [
        "def findSum(str1):\n",
        "  temp=\"\"\n",
        "  sum=0\n",
        "  for ch in str1:\n",
        "    if(ch.isdigit()):\n",
        "      temp += char\n",
        "    else:\n",
        "      Sum += int(temp)\n",
        "      temp=\"0\"\n",
        "      return Sum + int(temp)\n",
        "str1=input(\"Enter a string:\")\n",
        "print(findSum(str1))"
      ],
      "execution_count": 4,
      "outputs": [
        {
          "output_type": "stream",
          "text": [
            "Enter a string:3\n",
            "None\n"
          ],
          "name": "stdout"
        }
      ]
    },
    {
      "cell_type": "code",
      "metadata": {
        "id": "fIl7smv4SAqH",
        "colab_type": "code",
        "colab": {
          "base_uri": "https://localhost:8080/",
          "height": 170
        },
        "outputId": "6bacb3ed-2678-43d6-d8c5-fb29eb1378a4"
      },
      "source": [
        "\n",
        "def count(s):\n",
        "  upper,lower,digits,special=0,0,0,0\n",
        "  for i in range(len(s)):\n",
        "    if s[i].isupper():\n",
        "      upper+=1\n",
        "    elif s[i].islower():\n",
        "      lower+=1\n",
        "    else:\n",
        "      special+=1\n",
        "    print(\"Uppercase letter:\",upper)\n",
        "    print(\"Lowercase letter:\",lower) \n",
        "    print(\"Digits:\",digits)\n",
        "    print(\"Special characters:\",special)\n",
        "s=input(\"Enter a string:\")\n",
        "count(s)\n"
      ],
      "execution_count": 5,
      "outputs": [
        {
          "output_type": "stream",
          "text": [
            "Enter a string:hi\n",
            "Uppercase letter: 0\n",
            "Lowercase letter: 1\n",
            "Digits: 0\n",
            "Special characters: 0\n",
            "Uppercase letter: 0\n",
            "Lowercase letter: 2\n",
            "Digits: 0\n",
            "Special characters: 0\n"
          ],
          "name": "stdout"
        }
      ]
    },
    {
      "cell_type": "code",
      "metadata": {
        "id": "duJ0KV_ZSMmU",
        "colab_type": "code",
        "colab": {
          "base_uri": "https://localhost:8080/",
          "height": 68
        },
        "outputId": "c265cc1f-787f-486a-9bdd-c303d64355b6"
      },
      "source": [
        "m=input(\"Enter a string:\")\n",
        "print(\"Original String:\")\n",
        "words=m.split()\n",
        "lower=[]\n",
        "upper=[]\n",
        "for char in m:\n",
        "  if char.islower():\n",
        "    lower.append(char)\n",
        "  else:\n",
        "    upper.append(char)\n",
        "sortedStr=\".join(lower+upper)\"\n",
        "print(\"After arranging:\",sortedStr)"
      ],
      "execution_count": 6,
      "outputs": [
        {
          "output_type": "stream",
          "text": [
            "Enter a string:upper\n",
            "Original String:\n",
            "After arranging: .join(lower+upper)\n"
          ],
          "name": "stdout"
        }
      ]
    },
    {
      "cell_type": "code",
      "metadata": {
        "id": "DC50mKOtSWmW",
        "colab_type": "code",
        "colab": {}
      },
      "source": [
        "def appendMiddle(s1,s2):\n",
        "  middleIndex=int(len(s1)/2)\n",
        "  print(\"Original String are:\",s1,s2)\n",
        "  middleThree=s1[:middleindex-1]+s2+s1[middleindex-1:]\n",
        "  print(\"After appending:\",middleThree)\n",
        "  s1=input(\">\")\n",
        "  s2=input(\">\")\n",
        "  appendMiddle(s1,s2)"
      ],
      "execution_count": 9,
      "outputs": []
    },
    {
      "cell_type": "code",
      "metadata": {
        "id": "Wld527a2R8Dp",
        "colab_type": "code",
        "colab": {}
      },
      "source": [
        ""
      ],
      "execution_count": null,
      "outputs": []
    }
  ]
}