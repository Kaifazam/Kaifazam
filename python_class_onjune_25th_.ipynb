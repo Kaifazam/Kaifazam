{
  "nbformat": 4,
  "nbformat_minor": 0,
  "metadata": {
    "colab": {
      "name": "python class onjune-25th .ipynb",
      "provenance": []
    },
    "kernelspec": {
      "name": "python3",
      "display_name": "Python 3"
    }
  },
  "cells": [
    {
      "cell_type": "code",
      "metadata": {
        "id": "te8cjDdRA80M",
        "colab_type": "code",
        "colab": {}
      },
      "source": [
        ""
      ],
      "execution_count": null,
      "outputs": []
    },
    {
      "cell_type": "markdown",
      "metadata": {
        "id": "qHJ1Iv58A-_w",
        "colab_type": "text"
      },
      "source": [
        "generate first N number of fibonacci numbers.Take N value from user"
      ]
    },
    {
      "cell_type": "code",
      "metadata": {
        "id": "Y5AO-W3QBN5H",
        "colab_type": "code",
        "colab": {
          "base_uri": "https://localhost:8080/",
          "height": 34
        },
        "outputId": "23216bfb-6473-4ed4-ba67-917cd61f6fa3"
      },
      "source": [
        "def fibonacci(n):\n",
        "  if n<0:\n",
        "    print('incorrect input')\n",
        "  elif n==1:\n",
        "    return 0\n",
        "  elif n==2:\n",
        "    return 1\n",
        "  else:\n",
        "    return fibonacci(n-1)+fibonacci(n-2)\n",
        "print(fibonacci(9))"
      ],
      "execution_count": null,
      "outputs": [
        {
          "output_type": "stream",
          "text": [
            "21\n"
          ],
          "name": "stdout"
        }
      ]
    },
    {
      "cell_type": "code",
      "metadata": {
        "id": "MH53XQGxCx-L",
        "colab_type": "code",
        "colab": {}
      },
      "source": [
        ""
      ],
      "execution_count": null,
      "outputs": []
    },
    {
      "cell_type": "markdown",
      "metadata": {
        "id": "WyODi_w3C_gs",
        "colab_type": "text"
      },
      "source": [
        "display multiplication table of K.Take K value from user Ex:7"
      ]
    },
    {
      "cell_type": "code",
      "metadata": {
        "id": "OaqFe9kCK6Ql",
        "colab_type": "code",
        "colab": {
          "base_uri": "https://localhost:8080/",
          "height": 204
        },
        "outputId": "493078fd-e380-4fed-9986-3623d8f1bf89"
      },
      "source": [
        "n=int(input(\"enter a number to disply its multiplication table\"))\n",
        "for i in range (1,11):\n",
        "  print(n,'x',i,'=',n*i)"
      ],
      "execution_count": null,
      "outputs": [
        {
          "output_type": "stream",
          "text": [
            "enter a number to disply its multiplication table5\n",
            "5 x 1 = 5\n",
            "5 x 2 = 10\n",
            "5 x 3 = 15\n",
            "5 x 4 = 20\n",
            "5 x 5 = 25\n",
            "5 x 6 = 30\n",
            "5 x 7 = 35\n",
            "5 x 8 = 40\n",
            "5 x 9 = 45\n",
            "5 x 10 = 50\n"
          ],
          "name": "stdout"
        }
      ]
    },
    {
      "cell_type": "markdown",
      "metadata": {
        "id": "kn02xEr-LzYn",
        "colab_type": "text"
      },
      "source": [
        "write a program to find greatest common divisor (GCD) or highest common factor (HCF) of given two numbers"
      ]
    },
    {
      "cell_type": "code",
      "metadata": {
        "id": "grQW_OQ6Lt6b",
        "colab_type": "code",
        "colab": {
          "base_uri": "https://localhost:8080/",
          "height": 34
        },
        "outputId": "447d99fe-76e7-4228-b1a8-e4106f3b1003"
      },
      "source": [
        "def gcd(a,b):\n",
        "  if (a==0 or b==0):\n",
        "    false\n",
        "  if (a==b):\n",
        "    return a \n",
        "  if (a>b):\n",
        "    return gcd(a-b,b)\n",
        "  return gcd(a,b-a)\n",
        "a=10\n",
        "b=15\n",
        "if (gcd(a,b)):\n",
        "  print('GCD of',a,'and',b,'is',gcd(a,b))\n",
        "else:\n",
        "  print('not found')\n",
        "  "
      ],
      "execution_count": null,
      "outputs": [
        {
          "output_type": "stream",
          "text": [
            "GCD of 10 and 15 is 5\n"
          ],
          "name": "stdout"
        }
      ]
    },
    {
      "cell_type": "code",
      "metadata": {
        "id": "O8JpYfDuNdmT",
        "colab_type": "code",
        "colab": {}
      },
      "source": [
        ""
      ],
      "execution_count": null,
      "outputs": []
    },
    {
      "cell_type": "markdown",
      "metadata": {
        "id": "XZFCfDt7V62_",
        "colab_type": "text"
      },
      "source": [
        "write a python program that accepts a word from the user and reverse it"
      ]
    },
    {
      "cell_type": "code",
      "metadata": {
        "id": "aqqKqC3BWI7y",
        "colab_type": "code",
        "colab": {
          "base_uri": "https://localhost:8080/",
          "height": 51
        },
        "outputId": "24db59a1-8841-464c-a724-10fe89175925"
      },
      "source": [
        "def reverse(s): \n",
        "  str = \"\" \n",
        "  for i in s: \n",
        "    str = i + str\n",
        "  return str\n",
        "  \n",
        "s = \"Good boy\"\n",
        "  \n",
        "print (\"The original string  is : \",end=\"\") \n",
        "print (s) \n",
        "  \n",
        "print (\"The reversed string(using loops) is : \",end=\"\") \n",
        "print (reverse(s)) "
      ],
      "execution_count": null,
      "outputs": [
        {
          "output_type": "stream",
          "text": [
            "The original string  is : Good boy\n",
            "The reversed string(using loops) is : yob dooG\n"
          ],
          "name": "stdout"
        }
      ]
    },
    {
      "cell_type": "code",
      "metadata": {
        "id": "bDNyBmmGWMi1",
        "colab_type": "code",
        "colab": {}
      },
      "source": [
        ""
      ],
      "execution_count": null,
      "outputs": []
    },
    {
      "cell_type": "markdown",
      "metadata": {
        "id": "LtUpKj_LWVlh",
        "colab_type": "text"
      },
      "source": [
        "write a python program to count the number of even and odd numbers from a series of numbers"
      ]
    },
    {
      "cell_type": "code",
      "metadata": {
        "id": "9fgAzktGWlKZ",
        "colab_type": "code",
        "colab": {
          "base_uri": "https://localhost:8080/",
          "height": 51
        },
        "outputId": "fb419e9e-2e83-4b18-e19c-fa22be586229"
      },
      "source": [
        "list1 = [1,2,3,4,5,6,7,8,9,10 ] \n",
        "  \n",
        "even_count, odd_count = 0, 0\n",
        "  \n",
        "# iterating each number in list \n",
        "for num in list1: \n",
        "      \n",
        "    # checking condition \n",
        "    if num % 2 == 0: \n",
        "        even_count += 1\n",
        "  \n",
        "    else: \n",
        "        odd_count += 1\n",
        "          \n",
        "print(\"Even numbers in the list: \", even_count) \n",
        "print(\"Odd numbers in the list: \", odd_count) \n"
      ],
      "execution_count": null,
      "outputs": [
        {
          "output_type": "stream",
          "text": [
            "Even numbers in the list:  5\n",
            "Odd numbers in the list:  5\n"
          ],
          "name": "stdout"
        }
      ]
    },
    {
      "cell_type": "code",
      "metadata": {
        "id": "f8ohIeqaW3Nn",
        "colab_type": "code",
        "colab": {}
      },
      "source": [
        ""
      ],
      "execution_count": null,
      "outputs": []
    },
    {
      "cell_type": "markdown",
      "metadata": {
        "id": "C-TQ_QQaXNYT",
        "colab_type": "text"
      },
      "source": [
        "write a python program that prints all the numbers from 0 to 6 except 3 and 6"
      ]
    },
    {
      "cell_type": "code",
      "metadata": {
        "id": "7Q1wbaYxXZ5v",
        "colab_type": "code",
        "colab": {
          "base_uri": "https://localhost:8080/",
          "height": 51
        },
        "outputId": "f6f5fb93-f84b-4f32-f866-b9ccf800fe03"
      },
      "source": [
        "for x in range(6):\n",
        "    if (x == 3 or x==6):\n",
        "        continue\n",
        "    print(x,end=' ')\n",
        "print(\"\\n\")"
      ],
      "execution_count": null,
      "outputs": [
        {
          "output_type": "stream",
          "text": [
            "0 1 2 4 5 \n",
            "\n"
          ],
          "name": "stdout"
        }
      ]
    },
    {
      "cell_type": "code",
      "metadata": {
        "id": "67DMt5O2YXJm",
        "colab_type": "code",
        "colab": {}
      },
      "source": [
        ""
      ],
      "execution_count": null,
      "outputs": []
    },
    {
      "cell_type": "code",
      "metadata": {
        "id": "XOwBqCdQakES",
        "colab_type": "code",
        "colab": {}
      },
      "source": [
        ""
      ],
      "execution_count": null,
      "outputs": []
    }
  ]
}