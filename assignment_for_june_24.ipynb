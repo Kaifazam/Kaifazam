{
  "nbformat": 4,
  "nbformat_minor": 0,
  "metadata": {
    "colab": {
      "name": "assignment for june-24.ipynb",
      "provenance": []
    },
    "kernelspec": {
      "name": "python3",
      "display_name": "Python 3"
    }
  },
  "cells": [
    {
      "cell_type": "code",
      "metadata": {
        "id": "vH9BU24slE4y",
        "colab_type": "code",
        "colab": {}
      },
      "source": [
        ""
      ],
      "execution_count": null,
      "outputs": []
    },
    {
      "cell_type": "markdown",
      "metadata": {
        "id": "UnV2Mb78lQod",
        "colab_type": "text"
      },
      "source": [
        "write a python program to find the area of a circle using math function."
      ]
    },
    {
      "cell_type": "code",
      "metadata": {
        "id": "de-0EexzlcK4",
        "colab_type": "code",
        "colab": {
          "base_uri": "https://localhost:8080/",
          "height": 51
        },
        "outputId": "84d2ddf1-eb55-4ac1-a719-fe2914cc05ea"
      },
      "source": [
        "pi=3.14\n",
        "r=int(input('enter the radius'))\n",
        "area=pi*r*r\n",
        "print(\"area of the circle:\",area)"
      ],
      "execution_count": null,
      "outputs": [
        {
          "output_type": "stream",
          "text": [
            "enter the radius12\n",
            "area of the circle: 452.15999999999997\n"
          ],
          "name": "stdout"
        }
      ]
    },
    {
      "cell_type": "markdown",
      "metadata": {
        "id": "pe57dUl_nDLl",
        "colab_type": "text"
      },
      "source": [
        ""
      ]
    },
    {
      "cell_type": "markdown",
      "metadata": {
        "id": "55mn05x6nIql",
        "colab_type": "text"
      },
      "source": [
        "write a program to find area of regular polygon using math function."
      ]
    },
    {
      "cell_type": "code",
      "metadata": {
        "id": "j4a24LPwnVDy",
        "colab_type": "code",
        "colab": {
          "base_uri": "https://localhost:8080/",
          "height": 68
        },
        "outputId": "7830167e-4362-4e29-eca2-a0f4ae8a2b96"
      },
      "source": [
        "from math import tan, pi\n",
        "n_sides = int(input(\"Input number of sides: \"))\n",
        "s_length = float(input(\"Input the length of a side: \"))\n",
        "p_area = n_sides * (s_length ** 2) / (4 * tan(pi / n_sides))\n",
        "print(\"The area of the polygon is: \",p_area)"
      ],
      "execution_count": null,
      "outputs": [
        {
          "output_type": "stream",
          "text": [
            "Input number of sides: 5\n",
            "Input the length of a side: 4\n",
            "The area of the polygon is:  27.52763840942347\n"
          ],
          "name": "stdout"
        }
      ]
    },
    {
      "cell_type": "markdown",
      "metadata": {
        "id": "mEy9Dj-LrDkn",
        "colab_type": "text"
      },
      "source": [
        "write a program to find area of a segment of a circle formula using math function."
      ]
    },
    {
      "cell_type": "code",
      "metadata": {
        "id": "5RQ82vWWqYDx",
        "colab_type": "code",
        "colab": {
          "base_uri": "https://localhost:8080/",
          "height": 85
        },
        "outputId": "c417b8a5-9941-4a68-e3bf-5b4fabde7030"
      },
      "source": [
        "import math   \n",
        "pi = math.pi\n",
        "def area_of_segment(radius, angle): \n",
        "    area_of_sector = pi * (radius * radius) * (angle / 360) \n",
        "    area_of_triangle = 1 / 2 * (radius * radius) *math.sin((angle * pi) / 180) \n",
        "  \n",
        "    return area_of_sector - area_of_triangle; \n",
        "  \n",
        "radius = float(input(\"redius\"))\n",
        "angle = float(input(\"angle\"))\n",
        "print(\"Area of minor segment =\", area_of_segment(radius, angle)) \n",
        "print(\"Area of major segment =\", area_of_segment(radius, (360 - angle)))"
      ],
      "execution_count": null,
      "outputs": [
        {
          "output_type": "stream",
          "text": [
            "redius5\n",
            "angle120\n",
            "Area of minor segment = 15.354621232609457\n",
            "Area of major segment = 63.185195107135364\n"
          ],
          "name": "stdout"
        }
      ]
    },
    {
      "cell_type": "code",
      "metadata": {
        "id": "ZrpK48TvvAcS",
        "colab_type": "code",
        "colab": {}
      },
      "source": [
        ""
      ],
      "execution_count": null,
      "outputs": []
    },
    {
      "cell_type": "markdown",
      "metadata": {
        "id": "i9N0UqI6xyfn",
        "colab_type": "text"
      },
      "source": [
        "write a program to shuffle list 11=[100,1,2,3,30,40,\"hai\",\"hello\"]."
      ]
    },
    {
      "cell_type": "code",
      "metadata": {
        "id": "9jn7Mr6jyNJo",
        "colab_type": "code",
        "colab": {
          "base_uri": "https://localhost:8080/",
          "height": 34
        },
        "outputId": "7c365f4d-e1c0-4fed-e431-27a6ebeb00c0"
      },
      "source": [
        "import random\n",
        "l1=[100,1,2,3,30,40,'hai','hello']\n",
        "random.shuffle(l1)\n",
        "print(l1)"
      ],
      "execution_count": null,
      "outputs": [
        {
          "output_type": "stream",
          "text": [
            "['hello', 30, 40, 1, 3, 100, 2, 'hai']\n"
          ],
          "name": "stdout"
        }
      ]
    },
    {
      "cell_type": "code",
      "metadata": {
        "id": "uaYEBVgIy4iL",
        "colab_type": "code",
        "colab": {}
      },
      "source": [
        ""
      ],
      "execution_count": null,
      "outputs": []
    },
    {
      "cell_type": "code",
      "metadata": {
        "id": "VjkDFu2e3Gng",
        "colab_type": "code",
        "colab": {}
      },
      "source": [
        ""
      ],
      "execution_count": null,
      "outputs": []
    },
    {
      "cell_type": "code",
      "metadata": {
        "id": "JXeKqi1k_qAN",
        "colab_type": "code",
        "colab": {
          "base_uri": "https://localhost:8080/",
          "height": 231
        },
        "outputId": "c25b34e1-3f37-4c54-e330-4e47b17fe9da"
      },
      "source": [
        ""
      ],
      "execution_count": null,
      "outputs": [
        {
          "output_type": "error",
          "ename": "NameError",
          "evalue": "ignored",
          "traceback": [
            "\u001b[0;31m---------------------------------------------------------------------------\u001b[0m",
            "\u001b[0;31mNameError\u001b[0m                                 Traceback (most recent call last)",
            "\u001b[0;32m<ipython-input-2-d63acb0d2b11>\u001b[0m in \u001b[0;36m<module>\u001b[0;34m()\u001b[0m\n\u001b[1;32m      1\u001b[0m \u001b[0;31m#functioning of math\u001b[0m\u001b[0;34m\u001b[0m\u001b[0;34m\u001b[0m\u001b[0;34m\u001b[0m\u001b[0m\n\u001b[1;32m      2\u001b[0m \u001b[0;32mimport\u001b[0m \u001b[0mmath\u001b[0m\u001b[0;34m\u001b[0m\u001b[0;34m\u001b[0m\u001b[0m\n\u001b[0;32m----> 3\u001b[0;31m \u001b[0mprint\u001b[0m\u001b[0;34m(\u001b[0m\u001b[0;34m'sin60='\u001b[0m\u001b[0;34m,\u001b[0m\u001b[0mcmath\u001b[0m\u001b[0;34m.\u001b[0m\u001b[0msin\u001b[0m\u001b[0;34m(\u001b[0m\u001b[0;34m(\u001b[0m\u001b[0mmath\u001b[0m\u001b[0;34m.\u001b[0m\u001b[0mpi\u001b[0m\u001b[0;34m)\u001b[0m\u001b[0;34m/\u001b[0m\u001b[0;36m3\u001b[0m\u001b[0;34m)\u001b[0m\u001b[0;34m)\u001b[0m\u001b[0;34m\u001b[0m\u001b[0;34m\u001b[0m\u001b[0m\n\u001b[0m\u001b[1;32m      4\u001b[0m \u001b[0mprint\u001b[0m\u001b[0;34m(\u001b[0m\u001b[0;34m'cos(pi)'\u001b[0m\u001b[0;34m,\u001b[0m\u001b[0mcmath\u001b[0m\u001b[0;34m.\u001b[0m\u001b[0mcos\u001b[0m\u001b[0;34m(\u001b[0m\u001b[0mmath\u001b[0m\u001b[0;34m.\u001b[0m\u001b[0mpi\u001b[0m\u001b[0;34m)\u001b[0m\u001b[0;34m)\u001b[0m\u001b[0;34m\u001b[0m\u001b[0;34m\u001b[0m\u001b[0m\n\u001b[1;32m      5\u001b[0m \u001b[0mprint\u001b[0m\u001b[0;34m(\u001b[0m\u001b[0;34m'tan90'\u001b[0m\u001b[0;34m,\u001b[0m\u001b[0mcmath\u001b[0m\u001b[0;34m.\u001b[0m\u001b[0mtan\u001b[0m\u001b[0;34m(\u001b[0m\u001b[0;36m90\u001b[0m\u001b[0;34m)\u001b[0m\u001b[0;34m)\u001b[0m\u001b[0;34m\u001b[0m\u001b[0;34m\u001b[0m\u001b[0m\n",
            "\u001b[0;31mNameError\u001b[0m: name 'cmath' is not defined"
          ]
        }
      ]
    },
    {
      "cell_type": "code",
      "metadata": {
        "id": "NNF--cUr_vnm",
        "colab_type": "code",
        "colab": {}
      },
      "source": [
        ""
      ],
      "execution_count": null,
      "outputs": []
    }
  ]
}